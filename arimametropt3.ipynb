{
 "cells": [
  {
   "cell_type": "code",
   "execution_count": 1,
   "metadata": {},
   "outputs": [
    {
     "data": {
      "text/plain": [
       "<module 'mpt_functions' from 'd:\\\\Code\\\\Graduation-Project\\\\mpt_functions.py'>"
      ]
     },
     "execution_count": 1,
     "metadata": {},
     "output_type": "execute_result"
    }
   ],
   "source": [
    "import pandas as pd\n",
    "import numpy as np\n",
    "import matplotlib.pyplot as plt\n",
    "from statsmodels.tsa.arima.model import ARIMA\n",
    "from statsmodels.tsa.stattools import adfuller\n",
    "import pmdarima as pm\n",
    "import random\n",
    "import importlib\n",
    "import mpt_functions as mpt\n",
    "importlib.reload(mpt)"
   ]
  },
  {
   "cell_type": "code",
   "execution_count": 10,
   "metadata": {},
   "outputs": [
    {
     "data": {
      "text/html": [
       "<div>\n",
       "<style scoped>\n",
       "    .dataframe tbody tr th:only-of-type {\n",
       "        vertical-align: middle;\n",
       "    }\n",
       "\n",
       "    .dataframe tbody tr th {\n",
       "        vertical-align: top;\n",
       "    }\n",
       "\n",
       "    .dataframe thead th {\n",
       "        text-align: right;\n",
       "    }\n",
       "</style>\n",
       "<table border=\"1\" class=\"dataframe\">\n",
       "  <thead>\n",
       "    <tr style=\"text-align: right;\">\n",
       "      <th></th>\n",
       "      <th>timestamp</th>\n",
       "      <th>TP2</th>\n",
       "      <th>TP3</th>\n",
       "      <th>H1</th>\n",
       "      <th>DV_pressure</th>\n",
       "      <th>Reservoirs</th>\n",
       "      <th>Oil_temperature</th>\n",
       "      <th>Motor_current</th>\n",
       "      <th>COMP</th>\n",
       "      <th>DV_eletric</th>\n",
       "      <th>Towers</th>\n",
       "      <th>MPG</th>\n",
       "      <th>LPS</th>\n",
       "      <th>Pressure_switch</th>\n",
       "      <th>Oil_level</th>\n",
       "      <th>Caudal_impulses</th>\n",
       "    </tr>\n",
       "  </thead>\n",
       "  <tbody>\n",
       "    <tr>\n",
       "      <th>0</th>\n",
       "      <td>2020-02-01 00:00:00</td>\n",
       "      <td>-0.012</td>\n",
       "      <td>9.358</td>\n",
       "      <td>9.340</td>\n",
       "      <td>-0.024</td>\n",
       "      <td>9.358</td>\n",
       "      <td>53.600</td>\n",
       "      <td>0.0400</td>\n",
       "      <td>1.0</td>\n",
       "      <td>0.0</td>\n",
       "      <td>1.0</td>\n",
       "      <td>1.0</td>\n",
       "      <td>0.0</td>\n",
       "      <td>1.0</td>\n",
       "      <td>1.0</td>\n",
       "      <td>1.0</td>\n",
       "    </tr>\n",
       "    <tr>\n",
       "      <th>1</th>\n",
       "      <td>2020-02-01 00:00:10</td>\n",
       "      <td>-0.014</td>\n",
       "      <td>9.348</td>\n",
       "      <td>9.332</td>\n",
       "      <td>-0.022</td>\n",
       "      <td>9.348</td>\n",
       "      <td>53.675</td>\n",
       "      <td>0.0400</td>\n",
       "      <td>1.0</td>\n",
       "      <td>0.0</td>\n",
       "      <td>1.0</td>\n",
       "      <td>1.0</td>\n",
       "      <td>0.0</td>\n",
       "      <td>1.0</td>\n",
       "      <td>1.0</td>\n",
       "      <td>1.0</td>\n",
       "    </tr>\n",
       "    <tr>\n",
       "      <th>2</th>\n",
       "      <td>2020-02-01 00:00:19</td>\n",
       "      <td>-0.012</td>\n",
       "      <td>9.338</td>\n",
       "      <td>9.322</td>\n",
       "      <td>-0.022</td>\n",
       "      <td>9.338</td>\n",
       "      <td>53.600</td>\n",
       "      <td>0.0425</td>\n",
       "      <td>1.0</td>\n",
       "      <td>0.0</td>\n",
       "      <td>1.0</td>\n",
       "      <td>1.0</td>\n",
       "      <td>0.0</td>\n",
       "      <td>1.0</td>\n",
       "      <td>1.0</td>\n",
       "      <td>1.0</td>\n",
       "    </tr>\n",
       "    <tr>\n",
       "      <th>3</th>\n",
       "      <td>2020-02-01 00:00:29</td>\n",
       "      <td>-0.012</td>\n",
       "      <td>9.328</td>\n",
       "      <td>9.312</td>\n",
       "      <td>-0.022</td>\n",
       "      <td>9.328</td>\n",
       "      <td>53.425</td>\n",
       "      <td>0.0400</td>\n",
       "      <td>1.0</td>\n",
       "      <td>0.0</td>\n",
       "      <td>1.0</td>\n",
       "      <td>1.0</td>\n",
       "      <td>0.0</td>\n",
       "      <td>1.0</td>\n",
       "      <td>1.0</td>\n",
       "      <td>1.0</td>\n",
       "    </tr>\n",
       "    <tr>\n",
       "      <th>4</th>\n",
       "      <td>2020-02-01 00:00:39</td>\n",
       "      <td>-0.012</td>\n",
       "      <td>9.318</td>\n",
       "      <td>9.302</td>\n",
       "      <td>-0.022</td>\n",
       "      <td>9.318</td>\n",
       "      <td>53.475</td>\n",
       "      <td>0.0400</td>\n",
       "      <td>1.0</td>\n",
       "      <td>0.0</td>\n",
       "      <td>1.0</td>\n",
       "      <td>1.0</td>\n",
       "      <td>0.0</td>\n",
       "      <td>1.0</td>\n",
       "      <td>1.0</td>\n",
       "      <td>1.0</td>\n",
       "    </tr>\n",
       "  </tbody>\n",
       "</table>\n",
       "</div>"
      ],
      "text/plain": [
       "            timestamp    TP2    TP3     H1  DV_pressure  Reservoirs  \\\n",
       "0 2020-02-01 00:00:00 -0.012  9.358  9.340       -0.024       9.358   \n",
       "1 2020-02-01 00:00:10 -0.014  9.348  9.332       -0.022       9.348   \n",
       "2 2020-02-01 00:00:19 -0.012  9.338  9.322       -0.022       9.338   \n",
       "3 2020-02-01 00:00:29 -0.012  9.328  9.312       -0.022       9.328   \n",
       "4 2020-02-01 00:00:39 -0.012  9.318  9.302       -0.022       9.318   \n",
       "\n",
       "   Oil_temperature  Motor_current  COMP  DV_eletric  Towers  MPG  LPS  \\\n",
       "0           53.600         0.0400   1.0         0.0     1.0  1.0  0.0   \n",
       "1           53.675         0.0400   1.0         0.0     1.0  1.0  0.0   \n",
       "2           53.600         0.0425   1.0         0.0     1.0  1.0  0.0   \n",
       "3           53.425         0.0400   1.0         0.0     1.0  1.0  0.0   \n",
       "4           53.475         0.0400   1.0         0.0     1.0  1.0  0.0   \n",
       "\n",
       "   Pressure_switch  Oil_level  Caudal_impulses  \n",
       "0              1.0        1.0              1.0  \n",
       "1              1.0        1.0              1.0  \n",
       "2              1.0        1.0              1.0  \n",
       "3              1.0        1.0              1.0  \n",
       "4              1.0        1.0              1.0  "
      ]
     },
     "execution_count": 10,
     "metadata": {},
     "output_type": "execute_result"
    }
   ],
   "source": [
    "path = \"C:/Users/bilge/Downloads/MetroPT3(AirCompressor).csv\"\n",
    "df = mpt.get_the_data_and_convert_datetime(path)\n",
    "df = mpt.drop_a_column(df, \"Unnamed: 0\")\n",
    "df.head()"
   ]
  },
  {
   "cell_type": "code",
   "execution_count": 11,
   "metadata": {},
   "outputs": [],
   "source": [
    "df_day1 = mpt.filter_a_day(\"2020-03-01\", df)  \n",
    "df_minute = mpt.aggregate_as_a_minute(df_day1)\n",
    "\n",
    "# Ensure timestamp is datetime and set as index\n",
    "df_minute['timestamp'] = pd.to_datetime(df_minute['timestamp'])\n",
    "df_minute = df_minute.set_index('timestamp')\n",
    "\n",
    "# Select Oil_temperature and resample per second\n",
    "df_pressure = df_minute[['Oil_temperature']]\n",
    "\n",
    "# Downsample to 1-minute intervals\n",
    "df_resampled = df_pressure.resample('1T').mean().dropna()"
   ]
  },
  {
   "cell_type": "code",
   "execution_count": 12,
   "metadata": {},
   "outputs": [
    {
     "data": {
      "text/html": [
       "<div>\n",
       "<style scoped>\n",
       "    .dataframe tbody tr th:only-of-type {\n",
       "        vertical-align: middle;\n",
       "    }\n",
       "\n",
       "    .dataframe tbody tr th {\n",
       "        vertical-align: top;\n",
       "    }\n",
       "\n",
       "    .dataframe thead th {\n",
       "        text-align: right;\n",
       "    }\n",
       "</style>\n",
       "<table border=\"1\" class=\"dataframe\">\n",
       "  <thead>\n",
       "    <tr style=\"text-align: right;\">\n",
       "      <th></th>\n",
       "      <th>Oil_temperature</th>\n",
       "    </tr>\n",
       "    <tr>\n",
       "      <th>timestamp</th>\n",
       "      <th></th>\n",
       "    </tr>\n",
       "  </thead>\n",
       "  <tbody>\n",
       "    <tr>\n",
       "      <th>2020-03-01 04:00:00</th>\n",
       "      <td>66.800000</td>\n",
       "    </tr>\n",
       "    <tr>\n",
       "      <th>2020-03-01 04:01:00</th>\n",
       "      <td>66.475000</td>\n",
       "    </tr>\n",
       "    <tr>\n",
       "      <th>2020-03-01 04:02:00</th>\n",
       "      <td>65.554167</td>\n",
       "    </tr>\n",
       "    <tr>\n",
       "      <th>2020-03-01 04:03:00</th>\n",
       "      <td>63.195833</td>\n",
       "    </tr>\n",
       "    <tr>\n",
       "      <th>2020-03-01 04:04:00</th>\n",
       "      <td>61.608333</td>\n",
       "    </tr>\n",
       "  </tbody>\n",
       "</table>\n",
       "</div>"
      ],
      "text/plain": [
       "                     Oil_temperature\n",
       "timestamp                           \n",
       "2020-03-01 04:00:00        66.800000\n",
       "2020-03-01 04:01:00        66.475000\n",
       "2020-03-01 04:02:00        65.554167\n",
       "2020-03-01 04:03:00        63.195833\n",
       "2020-03-01 04:04:00        61.608333"
      ]
     },
     "execution_count": 12,
     "metadata": {},
     "output_type": "execute_result"
    }
   ],
   "source": [
    "df_resampled.head()"
   ]
  },
  {
   "cell_type": "code",
   "execution_count": 6,
   "metadata": {},
   "outputs": [
    {
     "name": "stdout",
     "output_type": "stream",
     "text": [
      "ADF Statistic: -1.5502560577532358\n",
      "p-value: 0.5085202894210191\n",
      "Data is non-stationary. Differencing needed.\n"
     ]
    }
   ],
   "source": [
    "# Augmented Dickey-Fuller test for stationarity\n",
    "adf_test = adfuller(df_resampled)\n",
    "print(f\"ADF Statistic: {adf_test[0]}\")\n",
    "print(f\"p-value: {adf_test[1]}\")\n",
    "if adf_test[1] > 0.05:\n",
    "    print(\"Data is non-stationary. Differencing needed.\")\n",
    "    df_resampled = df_resampled.diff().dropna()"
   ]
  },
  {
   "cell_type": "code",
   "execution_count": 7,
   "metadata": {},
   "outputs": [
    {
     "data": {
      "text/html": [
       "<div>\n",
       "<style scoped>\n",
       "    .dataframe tbody tr th:only-of-type {\n",
       "        vertical-align: middle;\n",
       "    }\n",
       "\n",
       "    .dataframe tbody tr th {\n",
       "        vertical-align: top;\n",
       "    }\n",
       "\n",
       "    .dataframe thead th {\n",
       "        text-align: right;\n",
       "    }\n",
       "</style>\n",
       "<table border=\"1\" class=\"dataframe\">\n",
       "  <thead>\n",
       "    <tr style=\"text-align: right;\">\n",
       "      <th></th>\n",
       "      <th>Oil_temperature</th>\n",
       "    </tr>\n",
       "    <tr>\n",
       "      <th>timestamp</th>\n",
       "      <th></th>\n",
       "    </tr>\n",
       "  </thead>\n",
       "  <tbody>\n",
       "    <tr>\n",
       "      <th>2020-03-01 04:01:00</th>\n",
       "      <td>-0.325000</td>\n",
       "    </tr>\n",
       "    <tr>\n",
       "      <th>2020-03-01 04:02:00</th>\n",
       "      <td>-0.920833</td>\n",
       "    </tr>\n",
       "    <tr>\n",
       "      <th>2020-03-01 04:03:00</th>\n",
       "      <td>-2.358333</td>\n",
       "    </tr>\n",
       "    <tr>\n",
       "      <th>2020-03-01 04:04:00</th>\n",
       "      <td>-1.587500</td>\n",
       "    </tr>\n",
       "    <tr>\n",
       "      <th>2020-03-01 04:05:00</th>\n",
       "      <td>-0.941667</td>\n",
       "    </tr>\n",
       "  </tbody>\n",
       "</table>\n",
       "</div>"
      ],
      "text/plain": [
       "                     Oil_temperature\n",
       "timestamp                           \n",
       "2020-03-01 04:01:00        -0.325000\n",
       "2020-03-01 04:02:00        -0.920833\n",
       "2020-03-01 04:03:00        -2.358333\n",
       "2020-03-01 04:04:00        -1.587500\n",
       "2020-03-01 04:05:00        -0.941667"
      ]
     },
     "execution_count": 7,
     "metadata": {},
     "output_type": "execute_result"
    }
   ],
   "source": [
    "df_resampled.head()"
   ]
  },
  {
   "cell_type": "code",
   "execution_count": 8,
   "metadata": {},
   "outputs": [
    {
     "name": "stdout",
     "output_type": "stream",
     "text": [
      "Index(['Oil_temperature'], dtype='object')\n"
     ]
    }
   ],
   "source": [
    "print(df_resampled.columns)"
   ]
  },
  {
   "cell_type": "code",
   "execution_count": 9,
   "metadata": {},
   "outputs": [
    {
     "data": {
      "text/plain": [
       "(1199, 1)"
      ]
     },
     "execution_count": 9,
     "metadata": {},
     "output_type": "execute_result"
    }
   ],
   "source": [
    "df_resampled.shape"
   ]
  },
  {
   "cell_type": "code",
   "execution_count": 9,
   "metadata": {},
   "outputs": [
    {
     "name": "stdout",
     "output_type": "stream",
     "text": [
      "Hourly Data Shape: (64, 1)\n",
      "                     Oil_temperature\n",
      "timestamp                           \n",
      "2020-03-01 04:00:00           66.950\n",
      "2020-03-01 04:04:00           62.150\n",
      "2020-03-01 04:05:00           60.675\n",
      "2020-03-01 04:09:00           58.200\n",
      "2020-03-01 04:13:00           57.850\n",
      "2020-03-01 04:15:00           70.650\n",
      "2020-03-01 04:43:00           62.650\n",
      "2020-03-01 04:46:00           59.900\n",
      "2020-03-01 04:47:00           59.100\n",
      "2020-03-01 05:11:00           57.600\n",
      "2020-03-01 05:21:00           66.300\n",
      "2020-03-01 05:24:00           61.300\n"
     ]
    }
   ],
   "source": [
    "df_resampled.index = pd.to_datetime(df_resampled.index)\n",
    "\n",
    "# Drop any rows with NaN values\n",
    "df_resampled = df_resampled.dropna()\n",
    "\n",
    "# Define the hour range for forecasting\n",
    "forecast_hour_start = pd.Timestamp(\"2020-03-01 00:00:00\")  # Start of the hour\n",
    "forecast_hour_end = pd.Timestamp(\"2020-03-01 12:00:00\")    # End of the hour\n",
    "\n",
    "# Slice the data for the specified hour\n",
    "df_hour = df_resampled[(df_resampled.index >= forecast_hour_start) & (df_resampled.index < forecast_hour_end)]\n",
    "\n",
    "# Print the shape and head of the resulting DataFrame\n",
    "print(\"Hourly Data Shape:\", df_hour.shape)\n",
    "print(df_hour.head(12))"
   ]
  },
  {
   "cell_type": "code",
   "execution_count": 10,
   "metadata": {},
   "outputs": [
    {
     "name": "stderr",
     "output_type": "stream",
     "text": [
      "d:\\Anaconda\\Anaconda3\\lib\\site-packages\\statsmodels\\tsa\\base\\tsa_model.py:471: ValueWarning: A date index has been provided, but it has no associated frequency information and so will be ignored when e.g. forecasting.\n",
      "  self._init_dates(dates, freq)\n",
      "d:\\Anaconda\\Anaconda3\\lib\\site-packages\\statsmodels\\tsa\\base\\tsa_model.py:471: ValueWarning: A date index has been provided, but it has no associated frequency information and so will be ignored when e.g. forecasting.\n",
      "  self._init_dates(dates, freq)\n",
      "d:\\Anaconda\\Anaconda3\\lib\\site-packages\\statsmodels\\tsa\\base\\tsa_model.py:471: ValueWarning: A date index has been provided, but it has no associated frequency information and so will be ignored when e.g. forecasting.\n",
      "  self._init_dates(dates, freq)\n"
     ]
    },
    {
     "name": "stdout",
     "output_type": "stream",
     "text": [
      "Forecast for the next 10 minutes: 64    61.119843\n",
      "65    67.208881\n",
      "66    62.552930\n",
      "67    63.869906\n",
      "68    64.390778\n",
      "69    63.634931\n",
      "70    63.991137\n",
      "71    63.978697\n",
      "72    63.878692\n",
      "73    63.950597\n",
      "Name: predicted_mean, dtype: float64\n"
     ]
    },
    {
     "name": "stderr",
     "output_type": "stream",
     "text": [
      "d:\\Anaconda\\Anaconda3\\lib\\site-packages\\statsmodels\\tsa\\base\\tsa_model.py:834: ValueWarning: No supported index is available. Prediction results will be given with an integer index beginning at `start`.\n",
      "  return get_prediction_index(\n"
     ]
    }
   ],
   "source": [
    "from statsmodels.tsa.arima.model import ARIMA\n",
    "\n",
    "# Fit an ARIMA model (example)\n",
    "model = ARIMA(df_hour['Oil_temperature'], order=(2, 1, 2))  # Replace with your target column\n",
    "model_fit = model.fit()\n",
    "\n",
    "# Forecast the next 10 minutes\n",
    "forecast = model_fit.forecast(steps=10)\n",
    "print(\"Forecast for the next 10 minutes:\", forecast)"
   ]
  },
  {
   "cell_type": "code",
   "execution_count": 11,
   "metadata": {},
   "outputs": [
    {
     "data": {
      "text/html": [
       "<table class=\"simpletable\">\n",
       "<caption>SARIMAX Results</caption>\n",
       "<tr>\n",
       "  <th>Dep. Variable:</th>           <td>y</td>        <th>  No. Observations:  </th>    <td>64</td>   \n",
       "</tr>\n",
       "<tr>\n",
       "  <th>Model:</th>                <td>SARIMAX</td>     <th>  Log Likelihood     </th> <td>-187.807</td>\n",
       "</tr>\n",
       "<tr>\n",
       "  <th>Date:</th>            <td>Fri, 21 Mar 2025</td> <th>  AIC                </th>  <td>379.615</td>\n",
       "</tr>\n",
       "<tr>\n",
       "  <th>Time:</th>                <td>11:19:40</td>     <th>  BIC                </th>  <td>383.932</td>\n",
       "</tr>\n",
       "<tr>\n",
       "  <th>Sample:</th>                  <td>0</td>        <th>  HQIC               </th>  <td>381.316</td>\n",
       "</tr>\n",
       "<tr>\n",
       "  <th></th>                       <td> - 64</td>      <th>                     </th>     <td> </td>   \n",
       "</tr>\n",
       "<tr>\n",
       "  <th>Covariance Type:</th>        <td>opg</td>       <th>                     </th>     <td> </td>   \n",
       "</tr>\n",
       "</table>\n",
       "<table class=\"simpletable\">\n",
       "<tr>\n",
       "      <td></td>         <th>coef</th>     <th>std err</th>      <th>z</th>      <th>P>|z|</th>  <th>[0.025</th>    <th>0.975]</th>  \n",
       "</tr>\n",
       "<tr>\n",
       "  <th>intercept</th> <td>   63.6795</td> <td>    0.625</td> <td>  101.828</td> <td> 0.000</td> <td>   62.454</td> <td>   64.905</td>\n",
       "</tr>\n",
       "<tr>\n",
       "  <th>sigma2</th>    <td>   20.7201</td> <td>    6.249</td> <td>    3.316</td> <td> 0.001</td> <td>    8.472</td> <td>   32.968</td>\n",
       "</tr>\n",
       "</table>\n",
       "<table class=\"simpletable\">\n",
       "<tr>\n",
       "  <th>Ljung-Box (L1) (Q):</th>     <td>0.10</td> <th>  Jarque-Bera (JB):  </th> <td>5.17</td>\n",
       "</tr>\n",
       "<tr>\n",
       "  <th>Prob(Q):</th>                <td>0.76</td> <th>  Prob(JB):          </th> <td>0.08</td>\n",
       "</tr>\n",
       "<tr>\n",
       "  <th>Heteroskedasticity (H):</th> <td>1.35</td> <th>  Skew:              </th> <td>0.38</td>\n",
       "</tr>\n",
       "<tr>\n",
       "  <th>Prob(H) (two-sided):</th>    <td>0.49</td> <th>  Kurtosis:          </th> <td>1.83</td>\n",
       "</tr>\n",
       "</table><br/><br/>Warnings:<br/>[1] Covariance matrix calculated using the outer product of gradients (complex-step)."
      ],
      "text/plain": [
       "<class 'statsmodels.iolib.summary.Summary'>\n",
       "\"\"\"\n",
       "                               SARIMAX Results                                \n",
       "==============================================================================\n",
       "Dep. Variable:                      y   No. Observations:                   64\n",
       "Model:                        SARIMAX   Log Likelihood                -187.807\n",
       "Date:                Fri, 21 Mar 2025   AIC                            379.615\n",
       "Time:                        11:19:40   BIC                            383.932\n",
       "Sample:                             0   HQIC                           381.316\n",
       "                                 - 64                                         \n",
       "Covariance Type:                  opg                                         \n",
       "==============================================================================\n",
       "                 coef    std err          z      P>|z|      [0.025      0.975]\n",
       "------------------------------------------------------------------------------\n",
       "intercept     63.6795      0.625    101.828      0.000      62.454      64.905\n",
       "sigma2        20.7201      6.249      3.316      0.001       8.472      32.968\n",
       "===================================================================================\n",
       "Ljung-Box (L1) (Q):                   0.10   Jarque-Bera (JB):                 5.17\n",
       "Prob(Q):                              0.76   Prob(JB):                         0.08\n",
       "Heteroskedasticity (H):               1.35   Skew:                             0.38\n",
       "Prob(H) (two-sided):                  0.49   Kurtosis:                         1.83\n",
       "===================================================================================\n",
       "\n",
       "Warnings:\n",
       "[1] Covariance matrix calculated using the outer product of gradients (complex-step).\n",
       "\"\"\""
      ]
     },
     "execution_count": 11,
     "metadata": {},
     "output_type": "execute_result"
    }
   ],
   "source": [
    "from pmdarima import auto_arima\n",
    "auto_arima(df_hour['Oil_temperature']).summary()"
   ]
  },
  {
   "cell_type": "code",
   "execution_count": 13,
   "metadata": {},
   "outputs": [
    {
     "data": {
      "image/png": "[encoded data removed]",
      "text/plain": [
       "<Figure size 1200x500 with 1 Axes>"
      ]
     },
     "metadata": {},
     "output_type": "display_data"
    }
   ],
   "source": [
    "import matplotlib.pyplot as plt\n",
    "import pandas as pd\n",
    "\n",
    "# Calculate thresholds for Oil_temperature\n",
    "upper_threshold = df_hour['Oil_temperature'].mean() + 2 * df_hour['Oil_temperature'].std()\n",
    "lower_threshold = df_hour['Oil_temperature'].mean() - 2 * df_hour['Oil_temperature'].std()\n",
    "\n",
    "forecast_index = pd.date_range(start=df_hour.index[-1] + pd.Timedelta(minutes=1),\n",
    "                               periods=len(forecast), freq='T')\n",
    "forecast = pd.Series(forecast, index=forecast_index)\n",
    "\n",
    "# Identify failure points\n",
    "failure_points = forecast[(forecast > upper_threshold) | (forecast < lower_threshold)]\n",
    "\n",
    "# Plot results\n",
    "plt.figure(figsize=(12, 5))\n",
    "plt.plot(df_hour.index, df_hour['Oil_temperature'], label='Training Data', color='blue')\n",
    "plt.plot(forecast.index, forecast, label='Forecast', color='orange')\n",
    "plt.axhline(upper_threshold, color='red', linestyle='dashed', label='Upper Threshold')\n",
    "plt.axhline(lower_threshold, color='green', linestyle='dashed', label='Lower Threshold')\n",
    "plt.scatter(failure_points.index, failure_points, color='red', label='Failure Points', zorder=3)\n",
    "plt.legend()\n",
    "plt.title(\"ARIMA Forecast for 2020-03-01 with Failure Thresholding\")\n",
    "plt.xlabel(\"Time\")\n",
    "plt.ylabel(\"DV Pressure\")\n",
    "plt.grid(True)\n",
    "plt.show()"
   ]
  }
 ],
 "metadata": {
  "kernelspec": {
   "display_name": "Python 3",
   "language": "python",
   "name": "python3"
  },
  "language_info": {
   "codemirror_mode": {
    "name": "ipython",
    "version": 3
   },
   "file_extension": ".py",
   "mimetype": "text/x-python",
   "name": "python",
   "nbconvert_exporter": "python",
   "pygments_lexer": "ipython3",
   "version": "3.9.13"
  },
  "orig_nbformat": 4,
  "vscode": {
   "interpreter": {
    "hash": "a5f44439766e47113308a61c45e3ba0ce79cefad900abb614d22e5ec5db7fbe0"
   }
  }
 },
 "nbformat": 4,
 "nbformat_minor": 2
}
