{
 "cells": [
  {
   "cell_type": "code",
   "execution_count": 1,
   "metadata": {},
   "outputs": [
    {
     "data": {
      "text/plain": [
       "<module 'mpt_functions' from 'd:\\\\Code\\\\GradProject-Bilge\\\\mpt_functions.py'>"
      ]
     },
     "execution_count": 1,
     "metadata": {},
     "output_type": "execute_result"
    }
   ],
   "source": [
    "import pandas as pd\n",
    "import numpy as np\n",
    "import matplotlib.pyplot as plt\n",
    "from statsmodels.tsa.arima.model import ARIMA\n",
    "from statsmodels.tsa.stattools import adfuller\n",
    "from statsmodels.graphics.tsaplots import plot_acf, plot_pacf\n",
    "import pmdarima as pm\n",
    "import random\n",
    "import importlib\n",
    "import mpt_functions as mpt\n",
    "importlib.reload(mpt)"
   ]
  },
  {
   "cell_type": "code",
   "execution_count": 2,
   "metadata": {},
   "outputs": [
    {
     "data": {
      "text/html": [
       "<div>\n",
       "<style scoped>\n",
       "    .dataframe tbody tr th:only-of-type {\n",
       "        vertical-align: middle;\n",
       "    }\n",
       "\n",
       "    .dataframe tbody tr th {\n",
       "        vertical-align: top;\n",
       "    }\n",
       "\n",
       "    .dataframe thead th {\n",
       "        text-align: right;\n",
       "    }\n",
       "</style>\n",
       "<table border=\"1\" class=\"dataframe\">\n",
       "  <thead>\n",
       "    <tr style=\"text-align: right;\">\n",
       "      <th></th>\n",
       "      <th>timestamp</th>\n",
       "      <th>TP2</th>\n",
       "      <th>TP3</th>\n",
       "      <th>H1</th>\n",
       "      <th>DV_pressure</th>\n",
       "      <th>Reservoirs</th>\n",
       "      <th>Oil_temperature</th>\n",
       "      <th>Motor_current</th>\n",
       "      <th>COMP</th>\n",
       "      <th>DV_eletric</th>\n",
       "      <th>Towers</th>\n",
       "      <th>MPG</th>\n",
       "      <th>LPS</th>\n",
       "      <th>Pressure_switch</th>\n",
       "      <th>Oil_level</th>\n",
       "      <th>Caudal_impulses</th>\n",
       "    </tr>\n",
       "  </thead>\n",
       "  <tbody>\n",
       "    <tr>\n",
       "      <th>0</th>\n",
       "      <td>2020-02-01 00:00:00</td>\n",
       "      <td>-0.012</td>\n",
       "      <td>9.358</td>\n",
       "      <td>9.340</td>\n",
       "      <td>-0.024</td>\n",
       "      <td>9.358</td>\n",
       "      <td>53.600</td>\n",
       "      <td>0.0400</td>\n",
       "      <td>1.0</td>\n",
       "      <td>0.0</td>\n",
       "      <td>1.0</td>\n",
       "      <td>1.0</td>\n",
       "      <td>0.0</td>\n",
       "      <td>1.0</td>\n",
       "      <td>1.0</td>\n",
       "      <td>1.0</td>\n",
       "    </tr>\n",
       "    <tr>\n",
       "      <th>1</th>\n",
       "      <td>2020-02-01 00:00:10</td>\n",
       "      <td>-0.014</td>\n",
       "      <td>9.348</td>\n",
       "      <td>9.332</td>\n",
       "      <td>-0.022</td>\n",
       "      <td>9.348</td>\n",
       "      <td>53.675</td>\n",
       "      <td>0.0400</td>\n",
       "      <td>1.0</td>\n",
       "      <td>0.0</td>\n",
       "      <td>1.0</td>\n",
       "      <td>1.0</td>\n",
       "      <td>0.0</td>\n",
       "      <td>1.0</td>\n",
       "      <td>1.0</td>\n",
       "      <td>1.0</td>\n",
       "    </tr>\n",
       "    <tr>\n",
       "      <th>2</th>\n",
       "      <td>2020-02-01 00:00:19</td>\n",
       "      <td>-0.012</td>\n",
       "      <td>9.338</td>\n",
       "      <td>9.322</td>\n",
       "      <td>-0.022</td>\n",
       "      <td>9.338</td>\n",
       "      <td>53.600</td>\n",
       "      <td>0.0425</td>\n",
       "      <td>1.0</td>\n",
       "      <td>0.0</td>\n",
       "      <td>1.0</td>\n",
       "      <td>1.0</td>\n",
       "      <td>0.0</td>\n",
       "      <td>1.0</td>\n",
       "      <td>1.0</td>\n",
       "      <td>1.0</td>\n",
       "    </tr>\n",
       "    <tr>\n",
       "      <th>3</th>\n",
       "      <td>2020-02-01 00:00:29</td>\n",
       "      <td>-0.012</td>\n",
       "      <td>9.328</td>\n",
       "      <td>9.312</td>\n",
       "      <td>-0.022</td>\n",
       "      <td>9.328</td>\n",
       "      <td>53.425</td>\n",
       "      <td>0.0400</td>\n",
       "      <td>1.0</td>\n",
       "      <td>0.0</td>\n",
       "      <td>1.0</td>\n",
       "      <td>1.0</td>\n",
       "      <td>0.0</td>\n",
       "      <td>1.0</td>\n",
       "      <td>1.0</td>\n",
       "      <td>1.0</td>\n",
       "    </tr>\n",
       "    <tr>\n",
       "      <th>4</th>\n",
       "      <td>2020-02-01 00:00:39</td>\n",
       "      <td>-0.012</td>\n",
       "      <td>9.318</td>\n",
       "      <td>9.302</td>\n",
       "      <td>-0.022</td>\n",
       "      <td>9.318</td>\n",
       "      <td>53.475</td>\n",
       "      <td>0.0400</td>\n",
       "      <td>1.0</td>\n",
       "      <td>0.0</td>\n",
       "      <td>1.0</td>\n",
       "      <td>1.0</td>\n",
       "      <td>0.0</td>\n",
       "      <td>1.0</td>\n",
       "      <td>1.0</td>\n",
       "      <td>1.0</td>\n",
       "    </tr>\n",
       "  </tbody>\n",
       "</table>\n",
       "</div>"
      ],
      "text/plain": [
       "            timestamp    TP2    TP3     H1  DV_pressure  Reservoirs  \\\n",
       "0 2020-02-01 00:00:00 -0.012  9.358  9.340       -0.024       9.358   \n",
       "1 2020-02-01 00:00:10 -0.014  9.348  9.332       -0.022       9.348   \n",
       "2 2020-02-01 00:00:19 -0.012  9.338  9.322       -0.022       9.338   \n",
       "3 2020-02-01 00:00:29 -0.012  9.328  9.312       -0.022       9.328   \n",
       "4 2020-02-01 00:00:39 -0.012  9.318  9.302       -0.022       9.318   \n",
       "\n",
       "   Oil_temperature  Motor_current  COMP  DV_eletric  Towers  MPG  LPS  \\\n",
       "0           53.600         0.0400   1.0         0.0     1.0  1.0  0.0   \n",
       "1           53.675         0.0400   1.0         0.0     1.0  1.0  0.0   \n",
       "2           53.600         0.0425   1.0         0.0     1.0  1.0  0.0   \n",
       "3           53.425         0.0400   1.0         0.0     1.0  1.0  0.0   \n",
       "4           53.475         0.0400   1.0         0.0     1.0  1.0  0.0   \n",
       "\n",
       "   Pressure_switch  Oil_level  Caudal_impulses  \n",
       "0              1.0        1.0              1.0  \n",
       "1              1.0        1.0              1.0  \n",
       "2              1.0        1.0              1.0  \n",
       "3              1.0        1.0              1.0  \n",
       "4              1.0        1.0              1.0  "
      ]
     },
     "execution_count": 2,
     "metadata": {},
     "output_type": "execute_result"
    }
   ],
   "source": [
    "path = \"C:/Users/bilge/Downloads/MetroPT3(AirCompressor).csv\"\n",
    "df = mpt.get_the_data_and_convert_datetime(path)\n",
    "df = mpt.drop_a_column(df, \"Unnamed: 0\")\n",
    "df.head()"
   ]
  },
  {
   "cell_type": "code",
   "execution_count": null,
   "metadata": {},
   "outputs": [],
   "source": [
    "# this should be checked\n",
    "\n",
    "f1_start = \"2020-04-18 00:00:00\"\n",
    "f1_finish = \"2020-04-18 23:59:00\"\n",
    "f2_start = \"2020-05-29 23:30:00\"\n",
    "f2_finish = \"2020-05-30 06:00:00\"\n",
    "f3_start = \"2020-06-05 10:00:00\"\n",
    "f3_finish = \"2020-06-07 14:30:00\"\n",
    "f4_start = \"2020-07-15 14:30:00\"\n",
    "f4_finish = \"2020-07-15 19:00:00\""
   ]
  },
  {
   "cell_type": "code",
   "execution_count": null,
   "metadata": {},
   "outputs": [],
   "source": [
    "# # df2 is the new version of df1 with \"condition\" column added.\n",
    "\n",
    "df2 = df.assign(condition=0)\n",
    "df2.head()"
   ]
  },
  {
   "cell_type": "code",
   "execution_count": null,
   "metadata": {},
   "outputs": [],
   "source": [
    "df2a = mpt.change_the_values_by_applying_a_time_filter(df2, f1_start, f1_finish, \"condition\", 1)\n",
    "df2b = mpt.change_the_values_by_applying_a_time_filter(df2a, f2_start, f2_finish, \"condition\", 1)\n",
    "df2c = mpt.change_the_values_by_applying_a_time_filter(df2b, f3_start, f3_finish, \"condition\", 1)\n",
    "df2 = mpt.change_the_values_by_applying_a_time_filter(df2c, f4_start, f4_finish, \"condition\", 1)\n",
    "\n",
    "print(df2[\"condition\"].value_counts())\n",
    "\n",
    "\n",
    "plt.bar([0, 1], df2[\"condition\"].value_counts())\n",
    "plt.title('Conditions')\n",
    "plt.xlabel('Condition')\n",
    "plt.ylabel('Value')\n",
    "plt.show()"
   ]
  },
  {
   "cell_type": "code",
   "execution_count": null,
   "metadata": {},
   "outputs": [],
   "source": [
    "print(df2.isna().sum())  # Count NaN values\n",
    "print((df2 == float('inf')).sum())  # Count positive infinity\n",
    "print((df2 == float('-inf')).sum())  # Count negative infinity"
   ]
  },
  {
   "cell_type": "code",
   "execution_count": null,
   "metadata": {},
   "outputs": [],
   "source": [
    "# Drop rows with NaN values\n",
    "df2 = df2.dropna()"
   ]
  },
  {
   "cell_type": "code",
   "execution_count": null,
   "metadata": {},
   "outputs": [],
   "source": [
    "import pandas as pd\n",
    "from statsmodels.tsa.stattools import grangercausalitytests\n",
    "\n",
    "# Select the variables to test for Granger causality with 'Condition' column\n",
    "variables = ['TP2', 'TP3', 'H1', 'DV_pressure', 'Reservoirs', 'Oil_temperature', 'Motor_current', 'COMP', 'DV_eletric', 'Towers', 'MPG', 'LPS', 'Pressure_switch', 'Oil_level', 'Caudal_impulses']\n",
    "\n",
    "# Perform the Granger causality test for each variable with 'Condition' as the dependent variable\n",
    "results = {}\n",
    "for var in variables:\n",
    "    test_result = grangercausalitytests(df2[['condition', var]], maxlag=5, verbose=True)  # maxlag depends on your dataset\n",
    "    results[var] = test_result\n",
    "\n",
    "# This will output whether each variable Granger-causes 'Condition' based on p-values.\n"
   ]
  },
  {
   "cell_type": "code",
   "execution_count": null,
   "metadata": {},
   "outputs": [],
   "source": [
    "import pandas as pd\n",
    "from statsmodels.tsa.stattools import grangercausalitytests\n",
    "\n",
    "def check_exogenous_granger(df, target_column, exogenous_columns, max_lag=5, significance_level=0.05):\n",
    "    for column in exogenous_columns:\n",
    "        if column in df.columns:\n",
    "            # Perform Granger Causality test\n",
    "            test_result = grangercausalitytests(df[[target_column, column]], max_lag, verbose=False)\n",
    "            \n",
    "            # Extract the p-values from the test results\n",
    "            p_values = [test_result[lag][0]['ssr_chi2test'][1] for lag in range(1, max_lag+1)]\n",
    "            \n",
    "            # If the p-value is greater than the significance level, the variable is exogenous\n",
    "            if all(p > significance_level for p in p_values):\n",
    "                print(f\"{column} is considered exogenous with respect to {target_column}.\")\n",
    "            else:\n",
    "                print(f\"{column} Granger causes {target_column}.\")\n",
    "        else:\n",
    "            print(f\"{column} is not present in the dataset.\")\n",
    "\n",
    "target_column = 'condition'  \n",
    "check_exogenous_granger(df2, target_column, variables)"
   ]
  },
  {
   "cell_type": "code",
   "execution_count": null,
   "metadata": {},
   "outputs": [],
   "source": [
    "df2_clean = df2.drop(columns=['timestamp']).apply(pd.to_numeric, errors='coerce').dropna()"
   ]
  },
  {
   "cell_type": "code",
   "execution_count": null,
   "metadata": {},
   "outputs": [],
   "source": [
    "from statsmodels.tsa.api import VAR\n",
    "\n",
    "model = VAR(df2_clean)  # your aggregated DataFrame with causal vars + condition\n",
    "lag_selection = model.select_order(20)  # test up to 20-minute lag\n",
    "print(lag_selection.summary())"
   ]
  },
  {
   "cell_type": "code",
   "execution_count": null,
   "metadata": {},
   "outputs": [],
   "source": [
    "model_fitted = model.fit(20)\n",
    "print(model_fitted.summary())"
   ]
  },
  {
   "cell_type": "code",
   "execution_count": null,
   "metadata": {},
   "outputs": [],
   "source": [
    "forecast = model_fitted.forecast(df2_clean.values[-20:], steps=5)  # next 5 minutes\n",
    "print(pd.DataFrame(forecast, columns=df2_clean.columns))"
   ]
  },
  {
   "cell_type": "code",
   "execution_count": null,
   "metadata": {},
   "outputs": [],
   "source": [
    "# Ensure forecast is a DataFrame (if not already)\n",
    "forecast_df = pd.DataFrame(forecast, columns=df2_clean.columns)"
   ]
  },
  {
   "cell_type": "code",
   "execution_count": null,
   "metadata": {},
   "outputs": [],
   "source": [
    "import matplotlib.pyplot as plt\n",
    "\n",
    "# Ensure forecast is a DataFrame (if not already)\n",
    "forecast_df = pd.DataFrame(forecast, columns=df2_clean.columns)\n",
    "\n",
    "# Create x-values for the plot\n",
    "x_actual = range(len(df2_clean) - 20, len(df2_clean))  # Last 20 actual data points\n",
    "x_forecast = range(len(df2_clean), len(df2_clean) + 5)  # Forecasted next 5 points\n",
    "\n",
    "# Plot actual values (last 20 points) for 'condition'\n",
    "plt.plot(x_actual, df2_clean['condition'].iloc[-20:], label=\"Actual Values\", color='blue')\n",
    "\n",
    "# Plot forecasted values for the next 5 steps\n",
    "plt.plot(x_forecast, forecast_df['condition'], label=\"Forecasted Values\", color='red')\n",
    "\n",
    "plt.xlabel('Time')\n",
    "plt.ylabel('Condition')\n",
    "plt.title('Forecast vs Actual Condition')\n",
    "plt.legend()\n",
    "plt.show()"
   ]
  },
  {
   "cell_type": "code",
   "execution_count": null,
   "metadata": {},
   "outputs": [],
   "source": [
    "print(df2_clean['condition'].iloc[-20:])\n",
    "print(forecast_df['condition'])"
   ]
  }
 ],
 "metadata": {
  "kernelspec": {
   "display_name": "Python 3",
   "language": "python",
   "name": "python3"
  },
  "language_info": {
   "codemirror_mode": {
    "name": "ipython",
    "version": 3
   },
   "file_extension": ".py",
   "mimetype": "text/x-python",
   "name": "python",
   "nbconvert_exporter": "python",
   "pygments_lexer": "ipython3",
   "version": "3.9.13"
  },
  "orig_nbformat": 4,
  "vscode": {
   "interpreter": {
    "hash": "a5f44439766e47113308a61c45e3ba0ce79cefad900abb614d22e5ec5db7fbe0"
   }
  }
 },
 "nbformat": 4,
 "nbformat_minor": 2
}
