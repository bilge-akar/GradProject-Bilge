{
 "cells": [
  {
   "cell_type": "code",
   "execution_count": 211,
   "metadata": {},
   "outputs": [],
   "source": [
    "import pandas as pd\n",
    "import importlib\n",
    "import mpt_functions as mpt\n",
    "importlib.reload(mpt)\n",
    "import seaborn as sns\n",
    "import matplotlib.pyplot as plt\n",
    "import numpy as np\n",
    "from scipy import stats\n",
    "from sklearn.preprocessing import StandardScaler\n",
    "from sklearn.cluster import KMeans\n",
    "from sklearn.decomposition import PCA\n",
    "from imblearn.over_sampling import SMOTE"
   ]
  },
  {
   "cell_type": "code",
   "execution_count": 107,
   "metadata": {},
   "outputs": [],
   "source": [
    "path = \"/Users/abdullahfurkanarslan/Desktop/metropt+3+dataset 2/MetroPT3(AirCompressor).csv\"\n",
    "df = mpt.get_the_data_and_convert_datetime(path)"
   ]
  },
  {
   "cell_type": "code",
   "execution_count": 108,
   "metadata": {},
   "outputs": [],
   "source": [
    "df = mpt.drop_a_column(df, \"Unnamed: 0\")"
   ]
  },
  {
   "cell_type": "code",
   "execution_count": 110,
   "metadata": {},
   "outputs": [],
   "source": [
    "f1_start = \"2020-04-18 00:00:00\"\n",
    "f1_finish = \"2020-04-18 23:59:00\"\n",
    "f2_start = \"2020-05-29 23:30:00\"\n",
    "f2_finish = \"2020-05-30 06:00:00\"\n",
    "f3_start = \"2020-06-05 10:00:00\"\n",
    "f3_finish = \"2020-06-07 14:30:00\"\n",
    "f4_start = \"2020-07-15 14:30:00\"\n",
    "f4_finish = \"2020-07-15 19:00:00\""
   ]
  },
  {
   "cell_type": "code",
   "execution_count": 111,
   "metadata": {},
   "outputs": [],
   "source": [
    "df = df.assign(condition=0)\n",
    "df = mpt.change_the_values_by_applying_a_time_filter(df, f1_start, f1_finish, \"condition\", 1)\n",
    "df = mpt.change_the_values_by_applying_a_time_filter(df, f2_start, f2_finish, \"condition\", 1)\n",
    "df = mpt.change_the_values_by_applying_a_time_filter(df, f3_start, f3_finish, \"condition\", 1)\n",
    "df = mpt.change_the_values_by_applying_a_time_filter(df, f4_start, f4_finish, \"condition\", 1)"
   ]
  },
  {
   "cell_type": "code",
   "execution_count": 112,
   "metadata": {},
   "outputs": [],
   "source": [
    "df[\"day_number\"] = df.index + 1"
   ]
  },
  {
   "cell_type": "code",
   "execution_count": 113,
   "metadata": {},
   "outputs": [],
   "source": [
    "df  = mpt.counter_for_maintenance(df , \"2020-02-01 00:00:00\", f1_finish)\n",
    "df  = mpt.counter_for_maintenance(df , f1_finish, f2_finish)\n",
    "df  = mpt.counter_for_maintenance(df , f2_finish, f3_finish)\n",
    "df  = mpt.counter_for_maintenance(df , f3_finish, f4_finish)\n",
    "df = mpt.counter_for_maintenance(df, f4_finish, \"2020-09-01 03:59:51\")"
   ]
  },
  {
   "cell_type": "code",
   "execution_count": 154,
   "metadata": {},
   "outputs": [],
   "source": [
    "all_column_names = df.columns.to_list()\n",
    "\n",
    "name_of_the_categorical_columns = ['COMP', 'DV_eletric', 'Towers',\n",
    "       'MPG', 'LPS', 'Pressure_switch', 'Oil_level', 'Caudal_impulses']\n",
    "\n",
    "name_of_the_numerical_columns =[\"counter\",'day_number','TP2', 'TP3', 'H1', 'DV_pressure', 'Reservoirs',\n",
    "       'Oil_temperature', 'Motor_current']\n",
    "\n",
    "target_column = df[\"condition\"]"
   ]
  },
  {
   "cell_type": "code",
   "execution_count": 155,
   "metadata": {},
   "outputs": [
    {
     "data": {
      "text/html": [
       "<div>\n",
       "<style scoped>\n",
       "    .dataframe tbody tr th:only-of-type {\n",
       "        vertical-align: middle;\n",
       "    }\n",
       "\n",
       "    .dataframe tbody tr th {\n",
       "        vertical-align: top;\n",
       "    }\n",
       "\n",
       "    .dataframe thead th {\n",
       "        text-align: right;\n",
       "    }\n",
       "</style>\n",
       "<table border=\"1\" class=\"dataframe\">\n",
       "  <thead>\n",
       "    <tr style=\"text-align: right;\">\n",
       "      <th></th>\n",
       "      <th>timestamp</th>\n",
       "      <th>TP2</th>\n",
       "      <th>TP3</th>\n",
       "      <th>H1</th>\n",
       "      <th>DV_pressure</th>\n",
       "      <th>Reservoirs</th>\n",
       "      <th>Oil_temperature</th>\n",
       "      <th>Motor_current</th>\n",
       "      <th>COMP</th>\n",
       "      <th>DV_eletric</th>\n",
       "      <th>Towers</th>\n",
       "      <th>MPG</th>\n",
       "      <th>LPS</th>\n",
       "      <th>Pressure_switch</th>\n",
       "      <th>Oil_level</th>\n",
       "      <th>Caudal_impulses</th>\n",
       "      <th>condition</th>\n",
       "      <th>day_number</th>\n",
       "      <th>counter</th>\n",
       "    </tr>\n",
       "  </thead>\n",
       "  <tbody>\n",
       "    <tr>\n",
       "      <th>0</th>\n",
       "      <td>2020-02-01 00:00:00</td>\n",
       "      <td>-0.424441</td>\n",
       "      <td>0.584247</td>\n",
       "      <td>0.531575</td>\n",
       "      <td>-0.20909</td>\n",
       "      <td>0.583993</td>\n",
       "      <td>-1.387941</td>\n",
       "      <td>-0.873208</td>\n",
       "      <td>1.0</td>\n",
       "      <td>0.0</td>\n",
       "      <td>1.0</td>\n",
       "      <td>1.0</td>\n",
       "      <td>0.0</td>\n",
       "      <td>1.0</td>\n",
       "      <td>1.0</td>\n",
       "      <td>1.0</td>\n",
       "      <td>0</td>\n",
       "      <td>-1.732050</td>\n",
       "      <td>-1.372743</td>\n",
       "    </tr>\n",
       "    <tr>\n",
       "      <th>1</th>\n",
       "      <td>2020-02-01 00:00:10</td>\n",
       "      <td>-0.425056</td>\n",
       "      <td>0.568600</td>\n",
       "      <td>0.529175</td>\n",
       "      <td>-0.20386</td>\n",
       "      <td>0.568326</td>\n",
       "      <td>-1.376431</td>\n",
       "      <td>-0.873208</td>\n",
       "      <td>1.0</td>\n",
       "      <td>0.0</td>\n",
       "      <td>1.0</td>\n",
       "      <td>1.0</td>\n",
       "      <td>0.0</td>\n",
       "      <td>1.0</td>\n",
       "      <td>1.0</td>\n",
       "      <td>1.0</td>\n",
       "      <td>0</td>\n",
       "      <td>-1.732047</td>\n",
       "      <td>-1.372736</td>\n",
       "    </tr>\n",
       "    <tr>\n",
       "      <th>2</th>\n",
       "      <td>2020-02-01 00:00:19</td>\n",
       "      <td>-0.424441</td>\n",
       "      <td>0.552953</td>\n",
       "      <td>0.526175</td>\n",
       "      <td>-0.20386</td>\n",
       "      <td>0.552660</td>\n",
       "      <td>-1.387941</td>\n",
       "      <td>-0.872122</td>\n",
       "      <td>1.0</td>\n",
       "      <td>0.0</td>\n",
       "      <td>1.0</td>\n",
       "      <td>1.0</td>\n",
       "      <td>0.0</td>\n",
       "      <td>1.0</td>\n",
       "      <td>1.0</td>\n",
       "      <td>1.0</td>\n",
       "      <td>0</td>\n",
       "      <td>-1.732045</td>\n",
       "      <td>-1.372729</td>\n",
       "    </tr>\n",
       "    <tr>\n",
       "      <th>3</th>\n",
       "      <td>2020-02-01 00:00:29</td>\n",
       "      <td>-0.424441</td>\n",
       "      <td>0.537306</td>\n",
       "      <td>0.523175</td>\n",
       "      <td>-0.20386</td>\n",
       "      <td>0.536993</td>\n",
       "      <td>-1.414797</td>\n",
       "      <td>-0.873208</td>\n",
       "      <td>1.0</td>\n",
       "      <td>0.0</td>\n",
       "      <td>1.0</td>\n",
       "      <td>1.0</td>\n",
       "      <td>0.0</td>\n",
       "      <td>1.0</td>\n",
       "      <td>1.0</td>\n",
       "      <td>1.0</td>\n",
       "      <td>0</td>\n",
       "      <td>-1.732043</td>\n",
       "      <td>-1.372722</td>\n",
       "    </tr>\n",
       "    <tr>\n",
       "      <th>4</th>\n",
       "      <td>2020-02-01 00:00:39</td>\n",
       "      <td>-0.424441</td>\n",
       "      <td>0.521659</td>\n",
       "      <td>0.520175</td>\n",
       "      <td>-0.20386</td>\n",
       "      <td>0.521327</td>\n",
       "      <td>-1.407124</td>\n",
       "      <td>-0.873208</td>\n",
       "      <td>1.0</td>\n",
       "      <td>0.0</td>\n",
       "      <td>1.0</td>\n",
       "      <td>1.0</td>\n",
       "      <td>0.0</td>\n",
       "      <td>1.0</td>\n",
       "      <td>1.0</td>\n",
       "      <td>1.0</td>\n",
       "      <td>0</td>\n",
       "      <td>-1.732041</td>\n",
       "      <td>-1.372715</td>\n",
       "    </tr>\n",
       "  </tbody>\n",
       "</table>\n",
       "</div>"
      ],
      "text/plain": [
       "            timestamp       TP2       TP3        H1  DV_pressure  Reservoirs  \\\n",
       "0 2020-02-01 00:00:00 -0.424441  0.584247  0.531575     -0.20909    0.583993   \n",
       "1 2020-02-01 00:00:10 -0.425056  0.568600  0.529175     -0.20386    0.568326   \n",
       "2 2020-02-01 00:00:19 -0.424441  0.552953  0.526175     -0.20386    0.552660   \n",
       "3 2020-02-01 00:00:29 -0.424441  0.537306  0.523175     -0.20386    0.536993   \n",
       "4 2020-02-01 00:00:39 -0.424441  0.521659  0.520175     -0.20386    0.521327   \n",
       "\n",
       "   Oil_temperature  Motor_current  COMP  DV_eletric  Towers  MPG  LPS  \\\n",
       "0        -1.387941      -0.873208   1.0         0.0     1.0  1.0  0.0   \n",
       "1        -1.376431      -0.873208   1.0         0.0     1.0  1.0  0.0   \n",
       "2        -1.387941      -0.872122   1.0         0.0     1.0  1.0  0.0   \n",
       "3        -1.414797      -0.873208   1.0         0.0     1.0  1.0  0.0   \n",
       "4        -1.407124      -0.873208   1.0         0.0     1.0  1.0  0.0   \n",
       "\n",
       "   Pressure_switch  Oil_level  Caudal_impulses  condition  day_number  \\\n",
       "0              1.0        1.0              1.0          0   -1.732050   \n",
       "1              1.0        1.0              1.0          0   -1.732047   \n",
       "2              1.0        1.0              1.0          0   -1.732045   \n",
       "3              1.0        1.0              1.0          0   -1.732043   \n",
       "4              1.0        1.0              1.0          0   -1.732041   \n",
       "\n",
       "    counter  \n",
       "0 -1.372743  \n",
       "1 -1.372736  \n",
       "2 -1.372729  \n",
       "3 -1.372722  \n",
       "4 -1.372715  "
      ]
     },
     "execution_count": 155,
     "metadata": {},
     "output_type": "execute_result"
    }
   ],
   "source": [
    "df_scaled = mpt.scale_columns(df, name_of_the_numerical_columns)\n",
    "df_scaled.head()"
   ]
  },
  {
   "cell_type": "code",
   "execution_count": 186,
   "metadata": {},
   "outputs": [
    {
     "data": {
      "text/plain": [
       "Cluster\n",
       "2    474173\n",
       "1    323268\n",
       "0    323155\n",
       "3    213717\n",
       "4    182635\n",
       "Name: count, dtype: int64"
      ]
     },
     "execution_count": 186,
     "metadata": {},
     "output_type": "execute_result"
    }
   ],
   "source": [
    "df_clustered = mpt.apply_kmeans_clustering(df_scaled, 5, \"condition\")\n",
    "df_clustered[\"Cluster\"].value_counts()"
   ]
  },
  {
   "cell_type": "code",
   "execution_count": 187,
   "metadata": {},
   "outputs": [
    {
     "data": {
      "image/png": "[encoded data removed]",
      "text/plain": [
       "<Figure size 1000x500 with 1 Axes>"
      ]
     },
     "metadata": {},
     "output_type": "display_data"
    }
   ],
   "source": [
    "mpt.plot_columns(mpt.filter_rows_between_the_given_timestamps(df_clustered, \"2020-06-15 09:30:00\", f4_finish), \"timestamp\", \"Cluster\")"
   ]
  },
  {
   "cell_type": "code",
   "execution_count": 188,
   "metadata": {},
   "outputs": [
    {
     "name": "stdout",
     "output_type": "stream",
     "text": [
      "\n",
      "Cluster Distribution by Condition:\n",
      " condition       0      1\n",
      "Cluster                 \n",
      "0          323064     91\n",
      "1          323064    204\n",
      "2          473700    473\n",
      "3          213678     39\n",
      "4          153488  29147\n"
     ]
    },
    {
     "data": {
      "text/html": [
       "<div>\n",
       "<style scoped>\n",
       "    .dataframe tbody tr th:only-of-type {\n",
       "        vertical-align: middle;\n",
       "    }\n",
       "\n",
       "    .dataframe tbody tr th {\n",
       "        vertical-align: top;\n",
       "    }\n",
       "\n",
       "    .dataframe thead th {\n",
       "        text-align: right;\n",
       "    }\n",
       "</style>\n",
       "<table border=\"1\" class=\"dataframe\">\n",
       "  <thead>\n",
       "    <tr style=\"text-align: right;\">\n",
       "      <th>condition</th>\n",
       "      <th>0</th>\n",
       "      <th>1</th>\n",
       "    </tr>\n",
       "    <tr>\n",
       "      <th>Cluster</th>\n",
       "      <th></th>\n",
       "      <th></th>\n",
       "    </tr>\n",
       "  </thead>\n",
       "  <tbody>\n",
       "    <tr>\n",
       "      <th>0</th>\n",
       "      <td>323064</td>\n",
       "      <td>91</td>\n",
       "    </tr>\n",
       "    <tr>\n",
       "      <th>1</th>\n",
       "      <td>323064</td>\n",
       "      <td>204</td>\n",
       "    </tr>\n",
       "    <tr>\n",
       "      <th>2</th>\n",
       "      <td>473700</td>\n",
       "      <td>473</td>\n",
       "    </tr>\n",
       "    <tr>\n",
       "      <th>3</th>\n",
       "      <td>213678</td>\n",
       "      <td>39</td>\n",
       "    </tr>\n",
       "    <tr>\n",
       "      <th>4</th>\n",
       "      <td>153488</td>\n",
       "      <td>29147</td>\n",
       "    </tr>\n",
       "  </tbody>\n",
       "</table>\n",
       "</div>"
      ],
      "text/plain": [
       "condition       0      1\n",
       "Cluster                 \n",
       "0          323064     91\n",
       "1          323064    204\n",
       "2          473700    473\n",
       "3          213678     39\n",
       "4          153488  29147"
      ]
     },
     "execution_count": 188,
     "metadata": {},
     "output_type": "execute_result"
    }
   ],
   "source": [
    "mpt.check_cluster_distribution(df_clustered, \"condition\", \"Cluster\")"
   ]
  },
  {
   "cell_type": "code",
   "execution_count": 191,
   "metadata": {},
   "outputs": [],
   "source": [
    "df_last = mpt.drop_a_column(df_clustered, \"timestamp\")"
   ]
  },
  {
   "cell_type": "markdown",
   "metadata": {},
   "source": [
    "Until Here, everystep was clear to do"
   ]
  },
  {
   "cell_type": "markdown",
   "metadata": {},
   "source": [
    "*SMOTE*"
   ]
  },
  {
   "cell_type": "code",
   "execution_count": 192,
   "metadata": {},
   "outputs": [],
   "source": [
    "dfa = df_last.copy()"
   ]
  },
  {
   "cell_type": "code",
   "execution_count": 205,
   "metadata": {},
   "outputs": [
    {
     "name": "stdout",
     "output_type": "stream",
     "text": [
      "Before :  condition\n",
      "0    1486994\n",
      "1    1486994\n",
      "Name: count, dtype: int64\n",
      "After :  condition\n",
      "0    1486994\n",
      "1    1486994\n",
      "Name: count, dtype: int64\n"
     ]
    }
   ],
   "source": [
    "dfa = mpt.apply_smote(dfa, \"condition\", 11)"
   ]
  },
  {
   "cell_type": "code",
   "execution_count": 208,
   "metadata": {},
   "outputs": [
    {
     "name": "stdout",
     "output_type": "stream",
     "text": [
      "Accuracy: 1.0000\n",
      "F1 Score: 1.0000\n",
      "Confusion Matrix:\n",
      "[[490228      1]\n",
      " [     2 491186]]\n"
     ]
    },
    {
     "data": {
      "text/plain": [
       "(RandomForestClassifier(random_state=42), 0.9999969431954001)"
      ]
     },
     "execution_count": 208,
     "metadata": {},
     "output_type": "execute_result"
    }
   ],
   "source": [
    "mpt.apply_random_forest_and_get_results(dfa, \"condition\")"
   ]
  },
  {
   "cell_type": "markdown",
   "metadata": {},
   "source": [
    "*imbalanced dataset*"
   ]
  },
  {
   "cell_type": "code",
   "execution_count": 209,
   "metadata": {},
   "outputs": [],
   "source": [
    "dfb = df_last.copy()"
   ]
  },
  {
   "cell_type": "code",
   "execution_count": 212,
   "metadata": {},
   "outputs": [
    {
     "name": "stdout",
     "output_type": "stream",
     "text": [
      "Accuracy: 1.0000\n",
      "F1 Score: 1.0000\n",
      "Confusion Matrix:\n",
      "[[490590      0]\n",
      " [     5   9998]]\n"
     ]
    },
    {
     "data": {
      "text/plain": [
       "(RandomForestClassifier(random_state=10), 0.9999900118459507)"
      ]
     },
     "execution_count": 212,
     "metadata": {},
     "output_type": "execute_result"
    }
   ],
   "source": [
    "mpt.apply_random_forest_and_get_results(dfb, \"condition\")"
   ]
  }
 ],
 "metadata": {
  "kernelspec": {
   "display_name": "Python 3",
   "language": "python",
   "name": "python3"
  },
  "language_info": {
   "codemirror_mode": {
    "name": "ipython",
    "version": 3
   },
   "file_extension": ".py",
   "mimetype": "text/x-python",
   "name": "python",
   "nbconvert_exporter": "python",
   "pygments_lexer": "ipython3",
   "version": "3.13.1"
  }
 },
 "nbformat": 4,
 "nbformat_minor": 2
}
